{
 "metadata": {
  "name": "",
  "signature": "sha256:c423a42a36542e02096a5ee1bb5332a7f01d1e69045e80efae96a5a897154f93"
 },
 "nbformat": 3,
 "nbformat_minor": 0,
 "worksheets": [
  {
   "cells": [
    {
     "cell_type": "code",
     "collapsed": false,
     "input": [
      "import pygrib\n",
      "from ncepgrib2 import Grib2Encode\n",
      "from ncepgrib2 import dump\n",
      "import numpy as np\n",
      "import netCDF4 as nc\n",
      "import matplotlib.pyplot as plt\n",
      "%pylab inline"
     ],
     "language": "python",
     "metadata": {},
     "outputs": [
      {
       "output_type": "stream",
       "stream": "stdout",
       "text": [
        "Populating the interactive namespace from numpy and matplotlib\n"
       ]
      }
     ],
     "prompt_number": 1
    },
    {
     "cell_type": "code",
     "collapsed": false,
     "input": [
      "### NETCDF PROCESSING\n",
      "uh=np.empty((339,327),dtype='float')\n",
      "ws10max=np.empty((339,327),dtype='float')\n",
      "dbz=np.empty((339,327),dtype='float')\n",
      "ncfile=nc.Dataset('wrfout_d01_2013-05-20_22:00:00','r')\n",
      "uh[:,:]=ncfile.variables['UP_HELI_MAX'][:,:]\n",
      "ws10max[:,:]=ncfile.variables['WSPD10MAX'][:,:]\n",
      "dbz=ncfile.variables['REFL_10CM'][0,0,:,:]\n",
      "#np.squeeze(dbz,axis=0)\n",
      "ncfile.close()\n",
      "\n",
      "\n",
      "plt.figure()\n",
      "CS=plt.contourf(dbz)\n",
      "plt.show()"
     ],
     "language": "python",
     "metadata": {},
     "outputs": [
      {
       "metadata": {},
       "output_type": "display_data",
       "png": "[encoded data removed]",
       "text": [
        "<matplotlib.figure.Figure at 0x1112ff450>"
       ]
      }
     ],
     "prompt_number": 27
    },
    {
     "cell_type": "code",
     "collapsed": false,
     "input": [
      "### INIT INSTANCE ###\n",
      "idsect=[0,0,14,14,1,2015,3,19,0,0,0,0,1]\n",
      "new=Grib2Encode(0,idsect)"
     ],
     "language": "python",
     "metadata": {},
     "outputs": [],
     "prompt_number": 28
    },
    {
     "cell_type": "code",
     "collapsed": false,
     "input": [
      "### DEF GRID ###\n",
      "#grid_definition_info = [    0 23865     0     0    30]\n",
      "gdsinfo=[0,110853,0,0,30] #[lambert conformal, 327*339, octets needed, interpretation of points def.?]\n",
      "gdtmpl=[6,0,0,0,0,0,0,327,339,25751000,25381100,8,30000000,260000000,40000000,40000000,0,64,25000000,25000000,0,0] #spherical,\n",
      "new.addgrid(gdsinfo,gdtmpl,deflist=None)"
     ],
     "language": "python",
     "metadata": {},
     "outputs": [],
     "prompt_number": 29
    },
    {
     "cell_type": "code",
     "collapsed": false,
     "input": [
      "### DEF FIELD ###\n",
      "pdtnum=0\n",
      "pdtmpl=[0,0,2,0,116,0,0,1,1,10,0,0,10,0,0] #tmp,tmp,fcst,orig center,wrf-em,hours obs cutoff, min cutoff,hr,hr,entire atmo,\n",
      "\n",
      "drtnum=0\n",
      "drttmpl=[0,0,0,8,0]\n",
      "\n",
      "new.addfield(pdtnum,pdtmpl,drtnum,drttmpl,uh,coordlist=None)\n",
      "new.addfield(pdtnum,pdtmpl,drtnum,drttmpl,ws10max,coordlist=None)\n",
      "new.addfield(pdtnum,pdtmpl,drtnum,drttmpl,dbz,coordlist=None)"
     ],
     "language": "python",
     "metadata": {},
     "outputs": [],
     "prompt_number": 30
    },
    {
     "cell_type": "code",
     "collapsed": false,
     "input": [
      "### END INSTANCE ###\n",
      "new.end()"
     ],
     "language": "python",
     "metadata": {},
     "outputs": [],
     "prompt_number": 31
    },
    {
     "cell_type": "code",
     "collapsed": false,
     "input": [
      "f=open('ttu_svrvars_2013052022.grb2','wb')\n",
      "f.write(new.msg)\n",
      "f.close()"
     ],
     "language": "python",
     "metadata": {},
     "outputs": [],
     "prompt_number": 32
    },
    {
     "cell_type": "code",
     "collapsed": false,
     "input": [
      "fname='/Users/brockburghardt/Documents/PYTHON/WRF_TTUREALTIME_20130520_22z_updrafthelicity.grb2'\n",
      "dump(fname,new.msg)"
     ],
     "language": "python",
     "metadata": {},
     "outputs": [
      {
       "ename": "AttributeError",
       "evalue": "'str' object has no attribute '_grib_filename'",
       "output_type": "pyerr",
       "traceback": [
        "\u001b[0;31m---------------------------------------------------------------------------\u001b[0m\n\u001b[0;31mAttributeError\u001b[0m                            Traceback (most recent call last)",
        "\u001b[0;32m<ipython-input-8-e199f075cf19>\u001b[0m in \u001b[0;36m<module>\u001b[0;34m()\u001b[0m\n\u001b[1;32m      1\u001b[0m \u001b[0mfname\u001b[0m\u001b[0;34m=\u001b[0m\u001b[0;34m'/Users/brockburghardt/Documents/PYTHON/WRF_TTUREALTIME_20130520_22z_updrafthelicity.grb2'\u001b[0m\u001b[0;34m\u001b[0m\u001b[0m\n\u001b[0;32m----> 2\u001b[0;31m \u001b[0mdump\u001b[0m\u001b[0;34m(\u001b[0m\u001b[0mfname\u001b[0m\u001b[0;34m,\u001b[0m\u001b[0mnew\u001b[0m\u001b[0;34m.\u001b[0m\u001b[0mmsg\u001b[0m\u001b[0;34m)\u001b[0m\u001b[0;34m\u001b[0m\u001b[0m\n\u001b[0m",
        "\u001b[0;32m/Users/brockburghardt/Library/Enthought/Canopy_64bit/User/lib/python2.7/site-packages/ncepgrib2.pyc\u001b[0m in \u001b[0;36mdump\u001b[0;34m(filename, grbs)\u001b[0m\n\u001b[1;32m   1150\u001b[0m     \u001b[0;32mfor\u001b[0m \u001b[0mgrb\u001b[0m \u001b[0;32min\u001b[0m \u001b[0mgrbs\u001b[0m\u001b[0;34m:\u001b[0m\u001b[0;34m\u001b[0m\u001b[0m\n\u001b[1;32m   1151\u001b[0m         \u001b[0;32mtry\u001b[0m\u001b[0;34m:\u001b[0m\u001b[0;34m\u001b[0m\u001b[0m\n\u001b[0;32m-> 1152\u001b[0;31m             \u001b[0mf\u001b[0m \u001b[0;34m=\u001b[0m \u001b[0mopen\u001b[0m\u001b[0;34m(\u001b[0m\u001b[0mgrb\u001b[0m\u001b[0;34m.\u001b[0m\u001b[0m_grib_filename\u001b[0m\u001b[0;34m,\u001b[0m\u001b[0;34m'rb'\u001b[0m\u001b[0;34m)\u001b[0m\u001b[0;34m\u001b[0m\u001b[0m\n\u001b[0m\u001b[1;32m   1153\u001b[0m         \u001b[0;32mexcept\u001b[0m \u001b[0mTypeError\u001b[0m\u001b[0;34m:\u001b[0m\u001b[0;34m\u001b[0m\u001b[0m\n\u001b[1;32m   1154\u001b[0m             \u001b[0mf\u001b[0m \u001b[0;34m=\u001b[0m \u001b[0mStringIO\u001b[0m\u001b[0;34m(\u001b[0m\u001b[0mgrb\u001b[0m\u001b[0;34m.\u001b[0m\u001b[0m_grib_filename\u001b[0m\u001b[0;34m)\u001b[0m\u001b[0;34m\u001b[0m\u001b[0m\n",
        "\u001b[0;31mAttributeError\u001b[0m: 'str' object has no attribute '_grib_filename'"
       ]
      }
     ],
     "prompt_number": 8
    },
    {
     "cell_type": "code",
     "collapsed": false,
     "input": [
      "new\n"
     ],
     "language": "python",
     "metadata": {},
     "outputs": [
      {
       "metadata": {},
       "output_type": "pyout",
       "prompt_number": 12,
       "text": [
        "<ncepgrib2.Grib2Encode instance at 0x10391f758>"
       ]
      }
     ],
     "prompt_number": 12
    },
    {
     "cell_type": "code",
     "collapsed": false,
     "input": [
      "#unnecessary scraps\n",
      "##file='gfs_2013051918_f06.grb2'\n",
      "file='ndas.t00z.awip3d00.tm03.grib2'\n",
      "gr=pygrib.open(file)\n",
      "msg=gr[38]\n",
      "print msg\n",
      "\n",
      "#from ncepgrib2 import Grib2Decode\n",
      "#grb=Grib2Decode(msg.tostring(),gribmsg=True)\n",
      "#print grb"
     ],
     "language": "python",
     "metadata": {},
     "outputs": []
    }
   ],
   "metadata": {}
  }
 ]
}